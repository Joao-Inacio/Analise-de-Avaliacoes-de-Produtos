{
 "cells": [
  {
   "cell_type": "markdown",
   "metadata": {},
   "source": [
    "# **Crud no MongoDB com Pymongo**"
   ]
  },
  {
   "cell_type": "markdown",
   "metadata": {},
   "source": [
    "## Importação"
   ]
  },
  {
   "cell_type": "code",
   "execution_count": 1,
   "metadata": {},
   "outputs": [],
   "source": [
    "# Biblioteca que Conecta com o MongoDB\n",
    "from pymongo import MongoClient\n",
    "\n",
    "# Biblioteca que deixa os print mais organizado\n",
    "from pprint import  pprint as original_pprint\n",
    "\n",
    "def pprint(data, *args, **kwargs):\n",
    "    kwargs['sort_dicts'] = False\n",
    "    original_pprint(data, *args, **kwargs)"
   ]
  },
  {
   "cell_type": "markdown",
   "metadata": {},
   "source": [
    "## Conexão"
   ]
  },
  {
   "cell_type": "code",
   "execution_count": 2,
   "metadata": {},
   "outputs": [],
   "source": [
    "# Conexão com o banco de dados\n",
    "client = MongoClient('127.0.0.1:27017')"
   ]
  },
  {
   "cell_type": "markdown",
   "metadata": {},
   "source": [
    "## Criação do Banco de Dados"
   ]
  },
  {
   "cell_type": "code",
   "execution_count": 3,
   "metadata": {},
   "outputs": [],
   "source": [
    "# Criando o banco de dados de usuários\n",
    "db = client['users']\n",
    "# Criando a coleção de usuário\n",
    "collection = db['user']"
   ]
  },
  {
   "cell_type": "markdown",
   "metadata": {},
   "source": [
    "## Create"
   ]
  },
  {
   "cell_type": "code",
   "execution_count": 4,
   "metadata": {},
   "outputs": [
    {
     "name": "stdout",
     "output_type": "stream",
     "text": [
      "651db549ef757e8fe0f35c67\n"
     ]
    }
   ],
   "source": [
    "# Adicionado um registro\n",
    "resultado = collection.insert_one({\"nome\": \"João\", \"idade\": 30, \"altura\": 1.75, \"estuda\": True})\n",
    "#  _id do documento recém-inserido\n",
    "print(resultado.inserted_id)"
   ]
  },
  {
   "cell_type": "code",
   "execution_count": 5,
   "metadata": {},
   "outputs": [
    {
     "name": "stdout",
     "output_type": "stream",
     "text": [
      "[ObjectId('651db549ef757e8fe0f35c68'), ObjectId('651db549ef757e8fe0f35c69'), ObjectId('651db549ef757e8fe0f35c6a')]\n"
     ]
    }
   ],
   "source": [
    "# Adicionado vários registros\n",
    "documentos = [\n",
    "        {\n",
    "            \"nome\": \"Maria\",\n",
    "            \"idade\": 25,\n",
    "            \"altura\": 1.65,\n",
    "            \"estuda\": False,\n",
    "        },\n",
    "        {\n",
    "            \"nome\": \"Pedro\",\n",
    "            \"idade\": 19,\n",
    "            \"altura\": 1.70,\n",
    "            \"estuda\": True,\n",
    "        },\n",
    "        {\n",
    "            \"nome\": \"Ana\",\n",
    "            \"idade\": 45,\n",
    "            \"altura\": 1.73,\n",
    "            \"estuda\": False,\n",
    "        }\n",
    "]\n",
    "resultado = collection.insert_many(documentos)\n",
    "#  _id dos documentos recém-inseridos\n",
    "print(resultado.inserted_ids)"
   ]
  },
  {
   "cell_type": "markdown",
   "metadata": {},
   "source": [
    "## Read"
   ]
  },
  {
   "cell_type": "code",
   "execution_count": 6,
   "metadata": {},
   "outputs": [
    {
     "name": "stdout",
     "output_type": "stream",
     "text": [
      "{'_id': ObjectId('651db549ef757e8fe0f35c67'),\n",
      " 'nome': 'João',\n",
      " 'idade': 30,\n",
      " 'altura': 1.75,\n",
      " 'estuda': True}\n"
     ]
    }
   ],
   "source": [
    "# Consultando um valor\n",
    "pprint(collection.find_one())"
   ]
  },
  {
   "cell_type": "code",
   "execution_count": 7,
   "metadata": {},
   "outputs": [
    {
     "name": "stdout",
     "output_type": "stream",
     "text": [
      "{'_id': ObjectId('651db549ef757e8fe0f35c68'),\n",
      " 'nome': 'Maria',\n",
      " 'idade': 25,\n",
      " 'altura': 1.65,\n",
      " 'estuda': False}\n"
     ]
    }
   ],
   "source": [
    "# Consultando um documento\n",
    "pprint(collection.find_one({\"estuda\": False}))"
   ]
  },
  {
   "cell_type": "code",
   "execution_count": 8,
   "metadata": {},
   "outputs": [
    {
     "name": "stdout",
     "output_type": "stream",
     "text": [
      "{'_id': ObjectId('651db549ef757e8fe0f35c67'),\n",
      " 'nome': 'João',\n",
      " 'idade': 30,\n",
      " 'altura': 1.75,\n",
      " 'estuda': True}\n",
      "{'_id': ObjectId('651db549ef757e8fe0f35c68'),\n",
      " 'nome': 'Maria',\n",
      " 'idade': 25,\n",
      " 'altura': 1.65,\n",
      " 'estuda': False}\n",
      "{'_id': ObjectId('651db549ef757e8fe0f35c69'),\n",
      " 'nome': 'Pedro',\n",
      " 'idade': 19,\n",
      " 'altura': 1.7,\n",
      " 'estuda': True}\n",
      "{'_id': ObjectId('651db549ef757e8fe0f35c6a'),\n",
      " 'nome': 'Ana',\n",
      " 'idade': 45,\n",
      " 'altura': 1.73,\n",
      " 'estuda': False}\n"
     ]
    }
   ],
   "source": [
    "# Consultando todos os documentos da coleção\n",
    "for doc in collection.find():\n",
    "    pprint(doc)"
   ]
  },
  {
   "cell_type": "code",
   "execution_count": 9,
   "metadata": {},
   "outputs": [
    {
     "name": "stdout",
     "output_type": "stream",
     "text": [
      "{'_id': ObjectId('651db549ef757e8fe0f35c67'),\n",
      " 'nome': 'João',\n",
      " 'idade': 30,\n",
      " 'altura': 1.75,\n",
      " 'estuda': True}\n",
      "{'_id': ObjectId('651db549ef757e8fe0f35c69'),\n",
      " 'nome': 'Pedro',\n",
      " 'idade': 19,\n",
      " 'altura': 1.7,\n",
      " 'estuda': True}\n"
     ]
    }
   ],
   "source": [
    "# Consultando todos os documentos da coleção\n",
    "for doc in collection.find({\"estuda\": True}):\n",
    "    pprint(doc)"
   ]
  },
  {
   "cell_type": "markdown",
   "metadata": {},
   "source": [
    "## Update"
   ]
  },
  {
   "cell_type": "code",
   "execution_count": 10,
   "metadata": {},
   "outputs": [
    {
     "name": "stdout",
     "output_type": "stream",
     "text": [
      "Documentos correspondentes: 1\n",
      "Documentos modificados: 1\n"
     ]
    }
   ],
   "source": [
    "# Atualizando um documento\n",
    "resultado = collection.update_one({\"nome\": \"João\"}, {\"$set\": {\"idade\": 25}})\n",
    "print(\"Documentos correspondentes:\", resultado.matched_count)\n",
    "print(\"Documentos modificados:\", resultado.modified_count)"
   ]
  },
  {
   "cell_type": "code",
   "execution_count": 11,
   "metadata": {},
   "outputs": [
    {
     "name": "stdout",
     "output_type": "stream",
     "text": [
      "Documentos correspondentes: 1\n",
      "Documentos modificados: 1\n"
     ]
    }
   ],
   "source": [
    "resultado = collection.update_many(\n",
    "    {\n",
    "        \"nome\": \"Maria\"\n",
    "    }, \n",
    "    { \n",
    "        \"$set\": {\"idade\": 24, \"altura\": 1.89} \n",
    "    }\n",
    ")\n",
    "print(\"Documentos correspondentes:\", resultado.matched_count)\n",
    "print(\"Documentos modificados:\", resultado.modified_count)"
   ]
  },
  {
   "cell_type": "markdown",
   "metadata": {},
   "source": [
    "## Delete"
   ]
  },
  {
   "cell_type": "code",
   "execution_count": 12,
   "metadata": {},
   "outputs": [
    {
     "name": "stdout",
     "output_type": "stream",
     "text": [
      "Documentos excluídos: 1\n"
     ]
    }
   ],
   "source": [
    "# Deletando um documento\n",
    "resultado = collection.delete_one({\"nome\": \"João\"})\n",
    "# Exibe o número de documentos excluídos\n",
    "print(\"Documentos excluídos:\", resultado.deleted_count) "
   ]
  },
  {
   "cell_type": "code",
   "execution_count": 13,
   "metadata": {},
   "outputs": [
    {
     "name": "stdout",
     "output_type": "stream",
     "text": [
      "Documentos excluídos: 3\n"
     ]
    }
   ],
   "source": [
    "# Deletando todos os documentos da coleção\n",
    "resultado = collection.delete_many({})\n",
    "\n",
    "# Exibe o número de documentos excluídos\n",
    "print(\"Documentos excluídos:\", resultado.deleted_count) "
   ]
  }
 ],
 "metadata": {
  "kernelspec": {
   "display_name": "venv",
   "language": "python",
   "name": "python3"
  },
  "language_info": {
   "codemirror_mode": {
    "name": "ipython",
    "version": 3
   },
   "file_extension": ".py",
   "mimetype": "text/x-python",
   "name": "python",
   "nbconvert_exporter": "python",
   "pygments_lexer": "ipython3",
   "version": "3.11.6"
  },
  "orig_nbformat": 4
 },
 "nbformat": 4,
 "nbformat_minor": 2
}
